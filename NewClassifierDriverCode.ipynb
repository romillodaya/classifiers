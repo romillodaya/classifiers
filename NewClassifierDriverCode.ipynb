{
  "nbformat": 4,
  "nbformat_minor": 0,
  "metadata": {
    "colab": {
      "name": "NewClassifierDriverCode.ipynb",
      "provenance": [],
      "collapsed_sections": [],
      "include_colab_link": true
    },
    "kernelspec": {
      "display_name": "Python 3",
      "name": "python3"
    },
    "language_info": {
      "name": "python"
    }
  },
  "cells": [
    {
      "cell_type": "markdown",
      "metadata": {
        "id": "view-in-github",
        "colab_type": "text"
      },
      "source": [
        "<a href=\"https://colab.research.google.com/github/romillodaya/classifiers/blob/main/NewClassifierDriverCode.ipynb\" target=\"_parent\"><img src=\"https://colab.research.google.com/assets/colab-badge.svg\" alt=\"Open In Colab\"/></a>"
      ]
    },
    {
      "cell_type": "code",
      "metadata": {
        "id": "eGhmdCnJstyP"
      },
      "source": [
        "import pandas as pd\n",
        "import numpy as np\n",
        "import os\n",
        "import time\n",
        "import random\n",
        "import sympy as sp\n",
        "import matplotlib.pyplot as plt\n",
        "import matplotlib.cm as cm\n",
        "from sklearn.model_selection import train_test_split\n",
        "plt.style.use('seaborn-whitegrid')\n",
        "%matplotlib inline\n",
        "plt.rcParams['figure.figsize'] = (10.0, 8.0) # set default size of plots\n",
        "plt.rcParams['image.interpolation'] = 'nearest'\n",
        "plt.rcParams['image.cmap'] = 'gray'\n",
        "\n",
        "# for auto-reloading external modules\n",
        "# see http://stackoverflow.com/questions/1907993/autoreload-of-modules-in-ipython\n",
        "%load_ext autoreload\n",
        "%autoreload 2"
      ],
      "execution_count": 1,
      "outputs": []
    },
    {
      "cell_type": "code",
      "metadata": {
        "id": "KItWEAxxe29F",
        "colab": {
          "base_uri": "https://localhost:8080/"
        },
        "outputId": "c1d43e56-693a-4b70-eacd-e0261d8fb91f"
      },
      "source": [
        "# Mount Google drive folder\n",
        "from google.colab import drive\n",
        "drive.mount('/content/drive', force_remount = True)"
      ],
      "execution_count": 2,
      "outputs": [
        {
          "output_type": "stream",
          "text": [
            "Mounted at /content/drive\n"
          ],
          "name": "stdout"
        }
      ]
    },
    {
      "cell_type": "code",
      "metadata": {
        "id": "sj4QsiFnsl4X"
      },
      "source": [
        "# Setup working directory and data directory\n",
        "DIR = '/content/drive/MyDrive/DeepLearning/Classifiers'\n",
        "DATA_DIR = DIR + '/Data/'\n",
        "os.chdir(DIR)"
      ],
      "execution_count": 3,
      "outputs": []
    },
    {
      "cell_type": "code",
      "metadata": {
        "id": "oWlbYu-wSA9k",
        "colab": {
          "base_uri": "https://localhost:8080/"
        },
        "outputId": "237be089-cb75-471c-b93f-f58329580bb7"
      },
      "source": [
        "# Load MNIST Data\n",
        "file = DATA_DIR+'MNISTData/mnist.csv'\n",
        "X = pd.read_csv(file, sep=',').to_numpy()\n",
        "y = X[:, 1]\n",
        "X = X[:, 2:].T\n",
        "num_features, num_samples = X.shape\n",
        "num_labels = np.unique(y).shape[0]\n",
        "print('MNIST data set')\n",
        "print('--------------')\n",
        "print('Number of samples = %d'%(num_samples))\n",
        "print('Number of features = %d'%(num_features))\n",
        "print('Number of output labels = %d'%(num_labels))"
      ],
      "execution_count": 4,
      "outputs": [
        {
          "output_type": "stream",
          "text": [
            "MNIST data set\n",
            "--------------\n",
            "Number of samples = 69998\n",
            "Number of features = 784\n",
            "Number of output labels = 10\n"
          ],
          "name": "stdout"
        }
      ]
    },
    {
      "cell_type": "code",
      "metadata": {
        "id": "9rsoGpMe2yzg"
      },
      "source": [
        "# Load simulated data\n",
        "file = DATA_DIR+'SimulatedData/simulated2Ddata.csv'\n",
        "X = pd.read_csv(file, sep=',', header = None).to_numpy()\n",
        "y = X[-1, :].astype('int64')\n",
        "X = X[:-1, :]\n",
        "num_features, num_samples = X.shape\n",
        "num_labels = np.unique(y).shape[0]\n",
        "print('Simulated 2D data set')\n",
        "print('---------------------')\n",
        "print('Number of samples = %d'%(num_samples))\n",
        "print('Number of features = %d'%(num_features))\n",
        "print('Number of output labels = %d'%(num_labels))"
      ],
      "execution_count": null,
      "outputs": []
    },
    {
      "cell_type": "code",
      "metadata": {
        "id": "h2wKNjqNlghr",
        "colab": {
          "base_uri": "https://localhost:8080/"
        },
        "outputId": "22457fd8-4d23-4622-83b5-78899d94ebc8"
      },
      "source": [
        "# Split data into \"train\" and \"test\" sets\n",
        "train_proportion = 0.9\n",
        "test_proportion = 0.1\n",
        "idx = random.sample(np.arange(num_samples).tolist(), num_samples)\n",
        "X_train, X_test = np.split(X[:, idx], [int(train_proportion*num_samples)], axis = 1)\n",
        "y_train, y_test = np.split(y[idx], [int(train_proportion*num_samples)])\n",
        "\n",
        "print('Training data size = ')\n",
        "print(X_train.shape)\n",
        "print('Test data size = ')\n",
        "print(X_test.shape)"
      ],
      "execution_count": 5,
      "outputs": [
        {
          "output_type": "stream",
          "text": [
            "Training data size = \n",
            "(784, 62998)\n",
            "Test data size = \n",
            "(784, 7000)\n"
          ],
          "name": "stdout"
        }
      ]
    },
    {
      "cell_type": "code",
      "metadata": {
        "id": "sCzIvVt498V4"
      },
      "source": [
        "## Preprocessing step-1\n",
        "# Normalize the samples (images)\n",
        "xmax = np.amax(X_train)\n",
        "xmin = np.amin(X_train)\n",
        "X_train = (X_train - xmin) / (xmax - xmin) # all train features turn into a number between 0 and 1\n",
        "X_test = (X_test - xmin)/(xmax - xmin)"
      ],
      "execution_count": 6,
      "outputs": []
    },
    {
      "cell_type": "code",
      "metadata": {
        "id": "Khb0yhx3SbrE"
      },
      "source": [
        "## Preprocessing step-2\n",
        "# Subtract mean training sample (image) from all train and test samples\n",
        "X_train_mean = np.mean(X_train, axis = 1).reshape(-1, 1)\n",
        "X_train = X_train - X_train_mean\n",
        "X_test = X_test - X_train_mean"
      ],
      "execution_count": null,
      "outputs": []
    },
    {
      "cell_type": "code",
      "metadata": {
        "id": "KjVv2gcA2pxl"
      },
      "source": [
        "## Preprocessing step-3\n",
        "# Bias trick: append the bias dimension of ones to the train/validate/test matrix\n",
        "# so that the classifier can deal with a single weight matrix W.\n",
        "X_train = np.vstack([X_train, np.ones((1, X_train.shape[1]))])\n",
        "X_test = np.vstack([X_test, np.ones((1, X_test.shape[1]))])\n",
        "num_features += 1"
      ],
      "execution_count": 7,
      "outputs": []
    },
    {
      "cell_type": "code",
      "metadata": {
        "id": "QQ5t8e-PH64p"
      },
      "source": [
        "from LinearClassifiers.linear_classifier import *"
      ],
      "execution_count": 8,
      "outputs": []
    },
    {
      "cell_type": "markdown",
      "metadata": {
        "id": "eMO-6ndtjen0"
      },
      "source": [
        "# **(This was written before filling)**\n",
        "\n",
        "We are trying find the best combination of regularization and learning rate so we are doing grid search by taking combinations of both and doing k-fold on each combination.\n",
        "\n",
        "So, we are training (k * number_of_reg * number_of_lr) times\n",
        "\n",
        "# **(Waiting for training to complete)**\n",
        "\n",
        "![Scan 07 Apr 2021_1 (3).jpg](data:image/jpeg;base64,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)"
      ]
    },
    {
      "cell_type": "code",
      "metadata": {
        "id": "yZP1-im5xcte",
        "colab": {
          "base_uri": "https://localhost:8080/"
        },
        "outputId": "55d44206-b388-424c-a26c-33aa234381ce"
      },
      "source": [
        "# Grid search for identifying optimal hyperparameters using \n",
        "# k-fold cross-validation by splitting train data into sub-train\n",
        "# validation sets\n",
        "\n",
        "regularization_strengths = [1e0, 1e-01, 1e-02, 1e-03] # regularization strengths\n",
        "learning_rates = [1e-01, 1e-02, 1e-04, 1e-04, 1e-05] # learning rates\n",
        "\n",
        "# Build grid of hyperparameters\n",
        "grid_search = [(lr, rg) for lr in learning_rates for rg in regularization_strengths]\n",
        "\n",
        "num_samples_train = X_train.shape[1]\n",
        "train_sub_proportion = 0.8 # this mean validation proportion = 1-train_sub_proportion = 1-0.8 = 0.2\n",
        "\n",
        "# k-fold cross validation loop \n",
        "kfold = 3\n",
        "for lr, rg in grid_search:\n",
        "  validation_accuracy = []  \n",
        "  for k in np.arange(kfold):\n",
        "      # Split train data into sub-train and validation sets\n",
        "      idx = random.sample(np.arange(num_samples_train).tolist(), num_samples_train)\n",
        "      X_sub_train, X_validate = np.split(X_train[:, idx],\n",
        "                                         [int(train_sub_proportion*num_samples_train)], axis = 1)\n",
        "      y_sub_train, y_validate = np.split(y_train[idx],\n",
        "                                         [int(train_sub_proportion*num_samples_train)])\n",
        "      \n",
        "      # Call classifier object\n",
        "      softmaxclassifierObject = Softmax()\n",
        "      #svmclassifierObject = LinearSVM()\n",
        "      \n",
        "      # Train classifier object on sub-train dataset\n",
        "      it_loss_hist, epoch_loss_hist = softmaxclassifierObject.train(X_sub_train, y_sub_train,\n",
        "                                                                    learning_rate = lr,\n",
        "                                                                    reg = rg,\n",
        "                                                                    num_iters = 30000,\n",
        "                                                                    batch_size = 32,\n",
        "                                                                    verbose = False)\n",
        "      \n",
        "      # Test trained clasifier object on validation set\n",
        "      y_validate_pred = softmaxclassifierObject.predict(X_validate)\n",
        "      validation_accuracy.append(np.mean(y_validate == y_validate_pred))\n",
        "  print('For lr = %1.0e, reg = %1.0e, mean validation accuracy = %f, sd. dev = %f'%(lr, rg, np.mean(validation_accuracy), np.std(validation_accuracy)))    "
      ],
      "execution_count": 11,
      "outputs": [
        {
          "output_type": "stream",
          "text": [
            "For lr = 1e-01, reg = 1e+00, mean validation accuracy = 0.533545, sd. dev = 0.079164\n",
            "For lr = 1e-01, reg = 1e-01, mean validation accuracy = 0.821058, sd. dev = 0.017058\n",
            "For lr = 1e-01, reg = 1e-02, mean validation accuracy = 0.887196, sd. dev = 0.000652\n",
            "For lr = 1e-01, reg = 1e-03, mean validation accuracy = 0.912725, sd. dev = 0.002293\n",
            "For lr = 1e-02, reg = 1e+00, mean validation accuracy = 0.678810, sd. dev = 0.005878\n",
            "For lr = 1e-02, reg = 1e-01, mean validation accuracy = 0.841455, sd. dev = 0.005523\n",
            "For lr = 1e-02, reg = 1e-02, mean validation accuracy = 0.892672, sd. dev = 0.001160\n",
            "For lr = 1e-02, reg = 1e-03, mean validation accuracy = 0.909709, sd. dev = 0.001663\n",
            "For lr = 1e-04, reg = 1e+00, mean validation accuracy = 0.761005, sd. dev = 0.003750\n",
            "For lr = 1e-04, reg = 1e-01, mean validation accuracy = 0.815688, sd. dev = 0.003001\n",
            "For lr = 1e-04, reg = 1e-02, mean validation accuracy = 0.821931, sd. dev = 0.002395\n",
            "For lr = 1e-04, reg = 1e-03, mean validation accuracy = 0.822011, sd. dev = 0.004249\n",
            "For lr = 1e-04, reg = 1e+00, mean validation accuracy = 0.763307, sd. dev = 0.007325\n",
            "For lr = 1e-04, reg = 1e-01, mean validation accuracy = 0.816746, sd. dev = 0.002253\n",
            "For lr = 1e-04, reg = 1e-02, mean validation accuracy = 0.823889, sd. dev = 0.005698\n",
            "For lr = 1e-04, reg = 1e-03, mean validation accuracy = 0.825503, sd. dev = 0.002934\n",
            "For lr = 1e-05, reg = 1e+00, mean validation accuracy = 0.711878, sd. dev = 0.008556\n",
            "For lr = 1e-05, reg = 1e-01, mean validation accuracy = 0.686058, sd. dev = 0.012734\n",
            "For lr = 1e-05, reg = 1e-02, mean validation accuracy = 0.671217, sd. dev = 0.006890\n",
            "For lr = 1e-05, reg = 1e-03, mean validation accuracy = 0.658810, sd. dev = 0.006053\n"
          ],
          "name": "stdout"
        }
      ]
    },
    {
      "cell_type": "code",
      "metadata": {
        "id": "qSqEppM8ikq3",
        "colab": {
          "base_uri": "https://localhost:8080/"
        },
        "outputId": "1a9a2b2c-2d28-43da-cdc4-632b5f96d92f"
      },
      "source": [
        "# Train the best hyperparameter model on the full train data and evaluate \n",
        "# accuracy for test data\n",
        "softmaxclassifierObject = Softmax()\n",
        "it_loss_hist, epoch_loss_hist = softmaxclassifierObject.train(X_train, y_train,\n",
        "                                                              learning_rate = 1e-01,\n",
        "                                                              reg = 1e-03,\n",
        "                                                              num_iters = 30000,\n",
        "                                                              batch_size = 32,\n",
        "                                                              verbose = False)\n",
        "y_test_pred = softmaxclassifierObject.predict(X_test)\n",
        "print('Test accuracy: %f' % (np.mean(y_test == y_test_pred)))"
      ],
      "execution_count": 13,
      "outputs": [
        {
          "output_type": "stream",
          "text": [
            "Test accuracy: 0.913571\n"
          ],
          "name": "stdout"
        }
      ]
    },
    {
      "cell_type": "code",
      "metadata": {
        "colab": {
          "base_uri": "https://localhost:8080/"
        },
        "id": "6eiJhysUs6t0",
        "outputId": "7d5baf16-1874-488d-9190-c63df2f69335"
      },
      "source": [
        "# Train the best hyperparameter model on the full train data and evaluate \n",
        "# accuracy for test data\n",
        "softmaxclassifierObject = Softmax()\n",
        "it_loss_hist, epoch_loss_hist = softmaxclassifierObject.train(X_train, y_train,\n",
        "                                                              learning_rate = 1e-02,\n",
        "                                                              reg = 1e-03,\n",
        "                                                              num_iters = 30000,\n",
        "                                                              batch_size = 32,\n",
        "                                                              verbose = False)\n",
        "y_test_pred = softmaxclassifierObject.predict(X_test)\n",
        "print('Test accuracy: %f' % (np.mean(y_test == y_test_pred)))"
      ],
      "execution_count": 14,
      "outputs": [
        {
          "output_type": "stream",
          "text": [
            "Test accuracy: 0.915429\n"
          ],
          "name": "stdout"
        }
      ]
    }
  ]
}